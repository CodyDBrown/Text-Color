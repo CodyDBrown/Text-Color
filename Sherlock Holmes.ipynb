{
 "cells": [
  {
   "cell_type": "code",
   "execution_count": 1,
   "metadata": {},
   "outputs": [],
   "source": [
    "from PIL import Image\n",
    "import numpy as np\n",
    "import docx\n",
    "from docx import Document\n",
    "from docx.shared import RGBColor\n",
    "from docx.enum.section import WD_ORIENT\n",
    "\n",
    "import PyPDF2"
   ]
  },
  {
   "cell_type": "code",
   "execution_count": 84,
   "metadata": {},
   "outputs": [
    {
     "name": "stdout",
     "output_type": "stream",
     "text": [
      "\"SherlockHolmes\"OverBlack.AFuriousClatterOfHoovesApproaching.Ext.StreetsOfLondonnightdark,IcyStreetsSeenThroughTheSootyGlassOfAGasStreetLampShadowsWithinShadows.GasHissesAudibly,TheLampIgnites,CastsAPoolOfLightThroughWhichATwo-HorseCarriageHurtlesMovingFastEnoughToKeepPaceWithTheStreetLampsAsTheyIgniteInSequence,AsIfTheFuriousMomentumOfTheCarriageCausesLondonToLightUpInItsWake.Superimpose:\"London1891\"Ext.ThamesEmbankmentnightalmostTippingOver,TheCarriageTurnsOntoTheThamesEmbankment,HurtlesThroughTheWrithingFogAlongTheIcyRiver.WeCatchAGlimpseOfAFaceScanningTheEmbankmentFromUnderTheCanvasRoofOfTheCarriage,AndThenTheCarriageLocksItsBrakesAndFishtailsToAHardStop.TheSteamingHorsesOneBlack,OneBayWhinnyAndBuck.Dr.JohnWatsonLeapsOut,RunsBackThroughTheSnowAlongTheEmbankment.Late20'S,Early30'S,HeIsAWiry,Sun-BatteredVeteranOfTheAfghanistanCampaigns,WithEyesThatHaveSeenPlenty.CutTo:DownRiver,TwoPonderousPoliceCarriagesMakeTheTurnOntoTheEmbankment,FollowingWatson.CutTo:WatsonStopsWhenHeReachesASingleSetOfFootprintsInTheSnow,VanishingOverTheEdgeOfTheEmbankment,WithNoTraceOnTheFrozenSnow-CoveredRiverTenFeetBelow.Watson'SFootprintsPartnerTheFirstSetAsHeFollowsThemToTheEdge.CutTo:AngleFromTheRiver:WatsonStandsOverAGapingSewerEntranceInTheEmbankmentWall.Int.SewerTunnelnightalmostInvisibleInTheGloomOfTheSewerWeSeeTheWhip-LikeSilhouetteOfSherlockHolmes.HolmesRaisesHisHandUntilHisPistolIsPointingStraightUpAndFiresASingleShot;TheInstantHeDoes,HeDropsToTheGroundAndRollsSideways.HeIsVeryQuick.TwoGunshotsImmediatelyRingOutFromTheDarknessUpAhead,BothSlammingIntoTheBrickworkWhereHolmesWasStanding;TheyAreFollowedBySixAudibleFootsteps.HolmesAimsHisGunTowardsTheMuzzleFlash,CountsSixBeats,Shoots.AGroan,AndSomeoneCollapses.HolmesSwarmsHisFallenTargetHolmeswhereIsHe?SeesThatTheManIsPastAnswering.ThenSuddenly,FarDownTheTunnel,WeHearWhite-HotScreaming.AWoman.AnUglySound.HolmesTakesTheMan'SBowlerHatAndPlacesItOnHisOwnHead,SignificantlyChangingHisSilhouetteWhichMeltsIntoTheBlacknessOfTheTunnelAsHeHeadsFastTowardsTheSoundOfTheScream.Int.SewerJunctionnightcatwalksMeetAboveAnIslandOfStoneworkAtTheJunctionOfSeveralSewers.AGoodPlaceForBadThings.AYoungWomanLiesOnTheStoneIsland,ASplashOfWhiteLitByFlamingTorches.SheIsn'TScreamingAnyMore.HerEyesAreWide,PerhapsInShock,PerhapsDrugged.PullBackToRevealThatSheLiesAtTheCenterOfAPentanglePaintedCrudelyOnTheMasonry.OccultSymbolsEncircleHerBody,AndDemarcateEachCornerOfThePentangle.Strange,Disturbing,AncientShapes.TheShadowOfAMan(Blackwood)KneelsAtTheEdgeOfThePentangle.LipsMovingAsHeMurmursIncantations,HeMovesToTheNextCornerOfThePentangle.CutTo:OnTheCatwalksAbove,ThreeHardMenInBowlerHatsStandGuardOverThisCeremony.TheyTurnFastWhenTheyHearWateryFootstepsApproachingFromOneOfTheTunnels.Man#1CocksHisGun...SeesAFigureInTheDarkness,BowlerHatOnHead.Man#1Dez?AMumbledAffirmativeReturnsDownTheTunnel.Relaxing,Man#1UncocksHisGunandIsFelledByAClinicalRightCrossFromHolmesAsHeExplodesIntoTheJunction.HardCoreHand-To-HandCombat,OneAgainstThree.TheBowler-HattedMenFightWithFanaticIntensity.HolmesFightsWithColdControl,UsingALethalAndVeryModernMixOfMartialArts,BoxingAndStreetFighting.CutTo:ExceptForOneQuickGlanceUpAtTheFightOnTheCatwalk,BlackwoodStaysFocusedOnHisRitual,ButMurmursFaster.CutTo:HolmesIsNowFightingJustTwo,ThenOneNotRealizingThatThereIsAFourthBowler-HattedHeavyCreepingDownTheCatwalkBehindHim.TheHeavyDrawsHisGun,ToShootHolmesInTheBack.Click!SoundLikeABilliardBallHittingACoconut.HolmesWhirlsAsTheFourthHeavySagsUnconsciousToRevealWatsonBehindHim,BrandishingAShortStick(18InchHardwoodClub).TheMenShareALook.ForTheFirstTime,WeGetAClearLookAtHolmes'Face.HolmesIsShining,Magnificent,WhollyAlive.HolmesexcellentTiming,AsAlways.CutTo:LordBlackwoodRisesFromHisKnees.AFewYearsOlderThanHolmesAndWatson,BlackwoodRadiatesWealthAndDarkPower.AFormidableCreature.HisPiercingEyesShineWithReptilianAnticipation.HeStepsIntoThePentangle,StandsOverTheWoman.ItLooksAsIfThisRitualIsAlmostComplete.CutTo:AsTheFinalThugCharges,HolmesSwingsOffTheCatwalk,AndClick!TheThugMeetsWatson'SShortStickInstead.CutTo:BlackwoodReachesDown.HisRubyRingSparklesAsHeMovesToCaressHerFaceAndHolmesTacklesBlackwood,DrivingHimOutOfThePentangle.BlackwoodyouSpoiledIt.SomethingHorribleHappensBehindBlackwood'SEyes.APsychoticFlashThatBringsHolmesUpShort,ForAMoment.Blackwood(Cont'D)NoMatter.TheDarkOneHasTheOthers.YouWeren'TQuickEnoughToSaveAnyOfThem.TheGirlHasSnappedOutOfHerTrance,AndIsBackingAwayFromThemAsBestSheCan.Blackwood(Cont'D)IWonderIfYouSeeTheirAgonyWhenYouCloseYourEyesAtNight.TheCruelWordsSeeminglyHaveNoEffectOnHolmes.ButWatsonChargesAtBlackwood,LaysIntoHimWithHisFists.HammersHim.BlackwoodSagsToHisKnees.HolmesGrabsWatson,PullsHimOff.Holmesit'SOver.ABubbling,DerisiveLaughFromBlackwood.BlackwoodisIt?HolmesIgnoresHim,SeesSomethingUpOnTheCatwalk.HolmeshelloInspector.LondonPolicemanSwarmIntoTheJunction,LeadByInspectorLestrade,AManWhoMakesUpForAnyShortcomingsWithSheerDoggedness.LestradethankYou,Holmes.ThankYou,Doctor.IWishI'DComeToYouSooner.HolmessoDoI.LestradeReddensAndProceedsToHandcuffBlackwood,ToCoverUpHisAnnoyance.BehindThem,TheGirlIsHelpedOntoAStretcherByTwoPolicemen,AndCarriedAway.BlackwoodWatchesTheGirl,EyesGlittering.Blackwoodwe'LlMeetAgain,MyDear.IPromise.WatsonLungesAtBlackwoodAgain.HolmesHoldsHimBack.HolmesturnYourBackOnIt.WatsonheKilledAtLeastSevenWomen.HowCanYouBeSoDetached?HolmesemotionIsTheEnemyOfReason.Ext.ThamesEmbankmentnightholmesAndWatsonWalkAlongTheFreezingEmbankmentTowardsTheirCarriage.WatsonweShouldChargeScotlandYardForTheHelpWeGiveThem.(More)\n"
     ]
    },
    {
     "name": "stderr",
     "output_type": "stream",
     "text": [
      "PdfReadWarning: Xref table not zero-indexed. ID numbers for objects will be corrected. [pdf.py:1736]\n"
     ]
    }
   ],
   "source": [
    "sherlock = open('Sherlock Holmes.pdf', 'rb')\n",
    "pdfReader = PyPDF2.PdfFileReader(frozen)\n",
    "sh_script = ' '\n",
    "for p in range(pdfReader.numPages-110):\n",
    "    \n",
    "    page = pdfReader.getPage(p+1)\n",
    "    text = page.extractText()\n",
    "   \n",
    "    text = text.replace('\\n', ' ')\n",
    "    sh_script += text\n",
    "    \n",
    "\n",
    "sh_script = sh_script.replace('™', \"'\") # Hacky bit, for some reason ' and \" show up as odd characters So this changes that\n",
    "sh_script = sh_script.replace('.', '. ')\n",
    "sh_script = sh_script.replace('  ', '') #Again kind of hacky, but it makes things look nicer\n",
    "sh_script = sh_script.replace('--', '')\n",
    "sh_script = sh_script.replace('. . . . . .', '')\n",
    "sh_script = sh_script.replace(' - ', '')\n",
    "for n in range(115):\n",
    "     sh_script = sh_script.replace('{}.'.format(n), '')\n",
    "\n",
    "sh_script = sh_script.lower()\n",
    "sh_script = sh_script.title()\n",
    "sh_script = sh_script.replace(' ', '')\n",
    "print(sh_script)\n",
    "text_file = open(\"Sherlock Holmes Script.txt\", \"w\")\n",
    "text_file.write(sh_script)\n",
    "text_file.close()"
   ]
  },
  {
   "cell_type": "code",
   "execution_count": 74,
   "metadata": {},
   "outputs": [
    {
     "data": {
      "text/plain": [
       "105296"
      ]
     },
     "execution_count": 74,
     "metadata": {},
     "output_type": "execute_result"
    }
   ],
   "source": [
    "len(sh_script)"
   ]
  },
  {
   "cell_type": "code",
   "execution_count": 106,
   "metadata": {},
   "outputs": [],
   "source": [
    "from PIL import Image\n",
    "import numpy as np\n",
    "import docx\n",
    "from docx import Document\n",
    "from docx.shared import RGBColor\n",
    "\n",
    "f = open('SH script.txt')\n",
    "text = f.read()\n",
    "pic = Image.open('SH2.jpg')\n",
    "pix = pic.load()\n",
    "\n",
    "    \n",
    "doc = docx.Document()\n",
    "style = doc.styles['Normal']\n",
    "font = style.font\n",
    "font.name = 'LM Mono 10'\n",
    "font.size = docx.shared.Pt(6)\n",
    "\n",
    "#Set margin size\n",
    "#changing the page margins\n",
    "sections = doc.sections\n",
    "for section in sections:\n",
    "    section.top_margin = 0\n",
    "    section.bottom_margin = 0\n",
    "    section.left_margin = 0\n",
    "    section.right_margin = 0\n",
    "    \n",
    "section = doc.sections[-1]\n",
    "#new_width, new_height = section.page_height, section.page_width\n",
    "#section.orientation = WD_ORIENT.LANDSCAPE\n",
    "section.page_width = docx.shared.Inches(17.55)\n",
    "#section.page_height = docx.shared.Inches(28.1)\n",
    "\n",
    "paragraph_format = doc.styles['Normal'].paragraph_format\n",
    "\n",
    "\n",
    "paragraph_format.space_before = docx.shared.Pt(0)\n",
    "paragraph_format.space_after = docx.shared.Pt(0)\n",
    "\n",
    "pic_colors = pic.load()\n",
    "\n",
    "color_list = []\n",
    "for n in range(pic.height):\n",
    "    for m in range(pic.width):\n",
    "        color_list.append(pic_colors[m,n]) \n",
    "\n",
    "for i in range(len(lyrics)):\n",
    "    if i%pic.width == 0:\n",
    "        paraObj1 = doc.add_paragraph()\n",
    "    foo = paraObj1.add_run(lyrics[i])\n",
    "    font = foo.font\n",
    "    font.color.rgb = RGBColor(color_list[i][0],\n",
    "                              color_list[i][1], \n",
    "                              color_list[i][2])\n",
    "\n",
    "doc.save('Sherlock 3.docx')"
   ]
  },
  {
   "cell_type": "code",
   "execution_count": 41,
   "metadata": {},
   "outputs": [
    {
     "data": {
      "text/plain": [
       "97200"
      ]
     },
     "execution_count": 41,
     "metadata": {},
     "output_type": "execute_result"
    }
   ],
   "source": []
  },
  {
   "cell_type": "code",
   "execution_count": 79,
   "metadata": {},
   "outputs": [
    {
     "data": {
      "text/plain": [
       "300"
      ]
     },
     "execution_count": 79,
     "metadata": {},
     "output_type": "execute_result"
    }
   ],
   "source": [
    "pic = Image.open('SH2.jpg')\n",
    "pic.width"
   ]
  },
  {
   "cell_type": "code",
   "execution_count": 72,
   "metadata": {},
   "outputs": [
    {
     "name": "stdout",
     "output_type": "stream",
     "text": [
      "(100.67640268734922,) (151.94090944463179,) 165.27908484864207\n"
     ]
    }
   ],
   "source": [
    "red = []\n",
    "green = []\n",
    "blue = []\n",
    "for i in range(len(lyrics)):\n",
    "    red.append(color_list[i][0])\n",
    "    green.append(color_list[i][1])\n",
    "    blue.append(color_list[i][2])\n",
    "ar = np.mean(red),\n",
    "ag = np.mean(green),\n",
    "ab = np.mean(blue)\n",
    "print(ar, ag, ab)"
   ]
  },
  {
   "cell_type": "markdown",
   "metadata": {},
   "source": [
    "Having lost of proglems with this newist file, So i'm trying something where I don't use the PDF"
   ]
  },
  {
   "cell_type": "code",
   "execution_count": 104,
   "metadata": {},
   "outputs": [],
   "source": [
    "f = open('Sherlock Holmes Script.txt')\n",
    "scrypt = f.read()\n",
    "\n",
    "scrypt = scrypt.replace('\\n', \" \")\n",
    "scrypt = scrypt.replace('\\t', '')\n",
    "scrypt = scrypt.replace('OMITTED', ' ')\n",
    "\n",
    "scrypt = scrypt.replace('(CONTINUED)', '')\n",
    "scrypt = scrypt.replace('CONTINUED', '')\n",
    "\n",
    "scrypt = scrypt.replace('     ', '')\n",
    "for n in range(115):\n",
    "    scrypt = scrypt.replace('{}.'.format(n), '')\n",
    "    scrypt = scrypt.replace(' {} '.format(n), '')\n",
    "    \n",
    "scrypt = scrypt.replace(\"\\\"\", \"'\") # Replace all double quote marks with a single quote mark, because strings\n",
    "scrypt\n",
    "redoct_scr = open('SH script.txt', 'w')\n",
    "redoct_scr.write(scrypt)\n",
    "redoct_scr.close()"
   ]
  },
  {
   "cell_type": "code",
   "execution_count": null,
   "metadata": {},
   "outputs": [],
   "source": []
  }
 ],
 "metadata": {
  "kernelspec": {
   "display_name": "Python 3",
   "language": "python",
   "name": "python3"
  },
  "language_info": {
   "codemirror_mode": {
    "name": "ipython",
    "version": 3
   },
   "file_extension": ".py",
   "mimetype": "text/x-python",
   "name": "python",
   "nbconvert_exporter": "python",
   "pygments_lexer": "ipython3",
   "version": "3.6.5"
  }
 },
 "nbformat": 4,
 "nbformat_minor": 2
}
